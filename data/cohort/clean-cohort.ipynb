{
 "cells": [
  {
   "cell_type": "code",
   "execution_count": 19,
   "id": "c6d9dcb6",
   "metadata": {},
   "outputs": [
    {
     "name": "stdout",
     "output_type": "stream",
     "text": [
      "The autoreload extension is already loaded. To reload it, use:\n",
      "  %reload_ext autoreload\n"
     ]
    }
   ],
   "source": [
    "%load_ext autoreload\n",
    "%autoreload 2"
   ]
  },
  {
   "cell_type": "code",
   "execution_count": 20,
   "id": "3b810cb5",
   "metadata": {},
   "outputs": [],
   "source": [
    "import pandas as pd \n",
    "import numpy as np\n",
    "import pickle as pk\n",
    "\n",
    "from utils import *"
   ]
  },
  {
   "cell_type": "markdown",
   "id": "943c1047",
   "metadata": {},
   "source": [
    "# DRG-based cohorts"
   ]
  },
  {
   "cell_type": "code",
   "execution_count": 21,
   "id": "286eab68",
   "metadata": {},
   "outputs": [],
   "source": [
    "# queried using *sql files on BigQuery\n",
    "apr_df = pd.read_csv('raw-apr-drg.csv')\n",
    "ms_df = pd.read_csv('raw-ms-drg.csv')\n",
    "\n",
    "apr_df = clean_apr(apr_df)"
   ]
  },
  {
   "cell_type": "code",
   "execution_count": null,
   "id": "a8973e1c",
   "metadata": {},
   "outputs": [],
   "source": []
  },
  {
   "cell_type": "code",
   "execution_count": 22,
   "id": "c8f55ddb",
   "metadata": {},
   "outputs": [
    {
     "name": "stdout",
     "output_type": "stream",
     "text": [
      "The number of unique codes: 570\n",
      "The number of unique codes: 849\n"
     ]
    }
   ],
   "source": [
    "ms_df = encode_drg(ms_df)\n",
    "apr_df = encode_drg(apr_df)\n"
   ]
  },
  {
   "cell_type": "code",
   "execution_count": null,
   "id": "66388600",
   "metadata": {},
   "outputs": [],
   "source": []
  },
  {
   "cell_type": "code",
   "execution_count": 23,
   "id": "fc1c87b0",
   "metadata": {},
   "outputs": [],
   "source": [
    "ms_cohort = split_drg_cohort(ms_df)"
   ]
  },
  {
   "cell_type": "code",
   "execution_count": 24,
   "id": "38cb7171",
   "metadata": {},
   "outputs": [],
   "source": [
    "apr_cohort = split_drg_cohort(apr_df)"
   ]
  },
  {
   "cell_type": "code",
   "execution_count": null,
   "id": "b1624b6c",
   "metadata": {},
   "outputs": [],
   "source": []
  },
  {
   "cell_type": "code",
   "execution_count": 17,
   "id": "d2067ba1",
   "metadata": {},
   "outputs": [],
   "source": [
    "with open('splits_drg_ms_raw.p', 'wb') as outf:\n",
    "    pk.dump(ms_cohort, outf)\n",
    "\n",
    "with open('splits_drg_apr_raw.p', 'wb') as outf:\n",
    "    pk.dump(apr_cohort, outf)\n",
    "    "
   ]
  },
  {
   "cell_type": "code",
   "execution_count": null,
   "id": "0ce26612",
   "metadata": {},
   "outputs": [],
   "source": []
  },
  {
   "cell_type": "code",
   "execution_count": null,
   "id": "46994933",
   "metadata": {},
   "outputs": [],
   "source": []
  },
  {
   "cell_type": "code",
   "execution_count": null,
   "id": "49e1cbb7",
   "metadata": {},
   "outputs": [],
   "source": []
  },
  {
   "cell_type": "markdown",
   "id": "2e0121b2",
   "metadata": {},
   "source": [
    "# MIMIC-Extract-outcome cohort"
   ]
  },
  {
   "cell_type": "code",
   "execution_count": 42,
   "id": "d9048317",
   "metadata": {},
   "outputs": [],
   "source": [
    "GAP_TIME          = 6  # In hours\n",
    "WINDOW_SIZE       = 24 # In hours\n",
    "SEED              = 1\n",
    "ID_COLS           = ['subject_id', 'hadm_id', 'icustay_id']\n"
   ]
  },
  {
   "cell_type": "code",
   "execution_count": 43,
   "id": "184b0378",
   "metadata": {},
   "outputs": [],
   "source": [
    "# loading from h5 file\n",
    "DATAFILE = '/path/to/all_hourly_data.h5' \n",
    "statics = pd.read_hdf(DATAFILE, 'patients')"
   ]
  },
  {
   "cell_type": "code",
   "execution_count": 44,
   "id": "fd908b89",
   "metadata": {},
   "outputs": [],
   "source": [
    "Ys = statics[statics.max_hours > WINDOW_SIZE + GAP_TIME][['intime', 'mort_hosp', 'mort_icu', 'los_icu']]\n",
    "Ys['los_3'] = Ys['los_icu'] > 3\n",
    "Ys['los_7'] = Ys['los_icu'] > 7\n",
    "Ys.drop(columns=['los_icu'], inplace=True)\n",
    "# Ys = Ys.astype(int)\n"
   ]
  },
  {
   "cell_type": "code",
   "execution_count": 45,
   "id": "ea486add",
   "metadata": {},
   "outputs": [],
   "source": [
    "# same as MIMIC-Extract nb\n",
    "train_frac, dev_frac, test_frac = 0.7, 0.1, 0.2\n",
    "Ys_subj_idx = Ys.index.get_level_values('subject_id') \n",
    "lvl2_subjects = set(Ys_subj_idx)\n",
    "# assert lvl2_subjects == set(Ys_subj_idx), \"Subject ID pools differ!\"\n",
    "# assert lvl2_subjects == set(raw_subj_idx), \"Subject ID pools differ!\"\n",
    "\n",
    "np.random.seed(SEED)\n",
    "subjects, N = np.random.permutation(list(lvl2_subjects)), len(lvl2_subjects)\n",
    "N_train, N_dev, N_test = int(train_frac * N), int(dev_frac * N), int(test_frac * N)\n",
    "train_subj = subjects[:N_train]\n",
    "dev_subj   = subjects[N_train:N_train + N_dev]\n",
    "test_subj  = subjects[N_train+N_dev:]"
   ]
  },
  {
   "cell_type": "code",
   "execution_count": 46,
   "id": "6619fc33",
   "metadata": {},
   "outputs": [],
   "source": [
    "def _fix_df(df):\n",
    "    df = df.copy()\n",
    "    cols = ['mort_hosp', 'mort_icu', 'los_3', 'los_7']\n",
    "    for col in cols:\n",
    "        df[col] = df[col].astype(int)\n",
    "    return df.reset_index().rename(columns=lambda x: x.upper())"
   ]
  },
  {
   "cell_type": "code",
   "execution_count": 47,
   "id": "1a1a19aa",
   "metadata": {},
   "outputs": [],
   "source": [
    "Ys_train, Ys_dev, Ys_test = [\n",
    "    _fix_df(Ys[Ys.index.get_level_values('subject_id').isin(s)]) for s in (train_subj, dev_subj, test_subj)\n",
    "]"
   ]
  },
  {
   "cell_type": "code",
   "execution_count": 48,
   "id": "1103c801",
   "metadata": {},
   "outputs": [
    {
     "name": "stdout",
     "output_type": "stream",
     "text": [
      "Number of subjects:  16760 2394 4790\n",
      "Number of hadms:  16760 2394 4790\n",
      "Number of hadms:  16760 2394 4790\n"
     ]
    }
   ],
   "source": [
    "tr, val, te = Ys_train, Ys_dev, Ys_test\n",
    "\n",
    "print('Number of subjects: ', \n",
    "        tr.SUBJECT_ID.nunique(), val.SUBJECT_ID.nunique(), te.SUBJECT_ID.nunique())\n",
    "\n",
    "print('Number of hadms: ', \n",
    "    tr.HADM_ID.nunique(), val.HADM_ID.nunique(), te.HADM_ID.nunique())\n",
    "\n",
    "print('Number of hadms: ', len(tr), len(val), len(te))"
   ]
  },
  {
   "cell_type": "code",
   "execution_count": 49,
   "id": "1eaa2d71",
   "metadata": {},
   "outputs": [],
   "source": [
    "cohort = {\n",
    "    \"train\": Ys_train,\n",
    "    \"val\": Ys_dev, \n",
    "    \"test\": Ys_test\n",
    "}"
   ]
  },
  {
   "cell_type": "code",
   "execution_count": 50,
   "id": "47062e89",
   "metadata": {},
   "outputs": [],
   "source": [
    "with open('splits_mextract.p', 'wb') as outf:\n",
    "    pk.dump(cohort, outf)\n"
   ]
  },
  {
   "cell_type": "code",
   "execution_count": null,
   "id": "e1a85c5f",
   "metadata": {},
   "outputs": [],
   "source": []
  },
  {
   "cell_type": "code",
   "execution_count": null,
   "id": "37471603",
   "metadata": {},
   "outputs": [],
   "source": []
  },
  {
   "cell_type": "code",
   "execution_count": null,
   "id": "9d5627ff",
   "metadata": {},
   "outputs": [],
   "source": []
  }
 ],
 "metadata": {
  "kernelspec": {
   "display_name": "Python 3.8.10 ('env')",
   "language": "python",
   "name": "python3"
  },
  "language_info": {
   "codemirror_mode": {
    "name": "ipython",
    "version": 3
   },
   "file_extension": ".py",
   "mimetype": "text/x-python",
   "name": "python",
   "nbconvert_exporter": "python",
   "pygments_lexer": "ipython3",
   "version": "3.8.10"
  },
  "vscode": {
   "interpreter": {
    "hash": "75ab38ac70ee34552eeefe2a806bc572681d36c000422e11d7830e3128825a3f"
   }
  }
 },
 "nbformat": 4,
 "nbformat_minor": 5
}
