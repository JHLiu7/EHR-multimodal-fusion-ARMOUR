{
 "cells": [
  {
   "cell_type": "code",
   "execution_count": 1,
   "id": "c204a8b8",
   "metadata": {},
   "outputs": [],
   "source": [
    "import pandas as pd \n",
    "import numpy as np \n",
    "import pickle as pk\n",
    "\n",
    "import os "
   ]
  },
  {
   "cell_type": "code",
   "execution_count": null,
   "id": "48eb06d6",
   "metadata": {},
   "outputs": [],
   "source": [
    "#  adm = pd.read_csv('/MIMIC_PATH/ADMISSIONS.csv.gz')\n",
    "#  notes = pd.read_csv('/MIMIC_PATH/NOTEEVENTS.csv.gz')\n",
    "\n",
    "class Checker:\n",
    "    def __init__(self, split, s_df, t_df):\n",
    "        \n",
    "        self.split = split\n",
    "        \n",
    "        self.train = split['train']\n",
    "        self.val = split['val']\n",
    "        self.test = split['test']\n",
    "        \n",
    "        self.all = pd.concat([self.train, self.val, self.test])\n",
    "        \n",
    "        self.s_hadms = self.get_s_hadms(s_df)\n",
    "        self.t_hadms = self.get_t_hadms(t_df)\n",
    "        \n",
    "        print('struct hadms:', len(self.s_hadms))\n",
    "        print('text hadms:', len(self.t_hadms))\n",
    "        print()\n",
    "        \n",
    "    def trim_split(self, main_mode='text'):\n",
    "        if main_mode == 'text':\n",
    "            new_split = {}\n",
    "            missing_hadms = {}\n",
    "            for k, v in self.split.items():\n",
    "                mask = v['HADM_ID'].isin(self.s_hadms)\n",
    "                yes = v[mask]\n",
    "                no = v[~mask]\n",
    "                \n",
    "                new_split[k] = yes\n",
    "                missing_hadms[k] = no['HADM_ID'].tolist()\n",
    "\n",
    "            \n",
    "        elif main_mode == 'struct':\n",
    "            new_split = {}\n",
    "            missing_hadms = {}\n",
    "            for k, v in self.split.items():\n",
    "                mask = v['HADM_ID'].isin(self.t_hadms)\n",
    "                yes = v[mask]\n",
    "                no = v[~mask]\n",
    "                \n",
    "                new_split[k] = yes\n",
    "                missing_hadms[k] = no['HADM_ID'].tolist()\n",
    "\n",
    "            \n",
    "        return new_split, missing_hadms\n",
    "        \n",
    "\n",
    "    def check_all(self):\n",
    "        print('Cases, Orig, Struct, Text')\n",
    "        for name, fold in zip(['All', 'Train', 'Val', 'Test'], [self.all, self.train, self.val, self.test]):\n",
    "            self._check_fold(fold, name)\n",
    "        print()\n",
    "        \n",
    "    def _check_fold(self, fold, name='Train'):\n",
    "        orig = len(fold)\n",
    "        struct = len(fold[fold['HADM_ID'].isin(self.s_hadms)])\n",
    "        text = len(fold[fold['HADM_ID'].isin(self.t_hadms)])\n",
    "        \n",
    "        print(f\"{name}: {orig}, {struct}, {text}\")\n",
    "        \n",
    "    def get_s_hadms(self, s_df):\n",
    "        hadms = []\n",
    "        for df in s_df:\n",
    "            tmp = df.index.get_level_values('hadm_id').unique().tolist()\n",
    "            \n",
    "            hadms.extend(tmp)\n",
    "            \n",
    "        return hadms\n",
    "    \n",
    "    def get_t_hadms(self, t_df):\n",
    "        return t_df.HADM_ID.unique().tolist()\n",
    "    \n",
    "    \n",
    "    \n",
    "def _print_split_nums(split):\n",
    "    train = split['train']\n",
    "    val = split['val']\n",
    "    test = split['test']\n",
    "    \n",
    "    \n",
    "    for s in [train, val, test]:\n",
    "        print(len(s))\n",
    "        \n",
    "    print()\n",
    "    \n",
    "\n",
    "def check_missing_for_mex(missing_mex):\n",
    "    \n",
    "    empty_hadms = []\n",
    "    \n",
    "    for name, hadms in missing_mex.items():\n",
    "        print('Check', name)\n",
    "        \n",
    "        has_note, no_note = 0,0\n",
    "        for hadm in hadms:\n",
    "            n = notes[notes.HADM_ID==hadm]\n",
    "            \n",
    "            if len(n) > 0:\n",
    "                has_note += 1\n",
    "            else:\n",
    "                no_note += 1\n",
    "                empty_hadms.append(hadm)\n",
    "        \n",
    "        print('later note \\ no note')\n",
    "        print(has_note, no_note)\n",
    "        \n",
    "    return empty_hadms"
   ]
  },
  {
   "cell_type": "code",
   "execution_count": null,
   "id": "1d7192d2",
   "metadata": {},
   "outputs": [],
   "source": []
  },
  {
   "cell_type": "markdown",
   "id": "2fe88ff7",
   "metadata": {},
   "source": [
    "# New cohort w/o missing input"
   ]
  },
  {
   "cell_type": "code",
   "execution_count": 25,
   "id": "53856252",
   "metadata": {},
   "outputs": [],
   "source": [
    "ms_drg = pd.read_pickle('splits_drg_ms.p')\n",
    "apr_drg = pd.read_pickle('splits_drg_apr.p')\n",
    "mex = pd.read_pickle('splits_mextract.p')"
   ]
  },
  {
   "cell_type": "code",
   "execution_count": 26,
   "id": "e7fda44b",
   "metadata": {},
   "outputs": [],
   "source": [
    "s_ms_drg = pd.read_pickle('../measurements/drg_ms_hourly.p')\n",
    "s_apr_drg = pd.read_pickle('../measurements/drg_apr_hourly.p')\n",
    "s_mex = pd.read_pickle('../measurements/mextract_hourly.p')\n"
   ]
  },
  {
   "cell_type": "code",
   "execution_count": 27,
   "id": "7240cf21",
   "metadata": {},
   "outputs": [],
   "source": [
    "t_ms_drg = pd.read_pickle('../notes_raw/drg_ms_df.p')\n",
    "t_apr_drg = pd.read_pickle('../notes_raw/drg_apr_df.p')\n",
    "t_mex = pd.read_pickle('../notes_raw/mextract_df.p')\n"
   ]
  },
  {
   "cell_type": "code",
   "execution_count": 82,
   "id": "22ddf787",
   "metadata": {
    "scrolled": true
   },
   "outputs": [
    {
     "name": "stdout",
     "output_type": "stream",
     "text": [
      "struct hadms: 23944\n",
      "text hadms: 23661\n",
      "\n",
      "struct hadms: 12845\n",
      "text hadms: 19132\n",
      "\n",
      "struct hadms: 17270\n",
      "text hadms: 25371\n",
      "\n"
     ]
    }
   ],
   "source": [
    "mex_check = Checker(mex, s_mex, t_mex)\n",
    "\n",
    "ms_check = Checker(ms_drg, s_ms_drg, t_ms_drg)\n",
    "\n",
    "apr_check = Checker(apr_drg, s_apr_drg, t_apr_drg)"
   ]
  },
  {
   "cell_type": "code",
   "execution_count": 83,
   "id": "6693a0f6",
   "metadata": {},
   "outputs": [
    {
     "name": "stdout",
     "output_type": "stream",
     "text": [
      "Cases, Orig, Struct, Text\n",
      "All: 23944, 23944, 23661\n",
      "Train: 16760, 16760, 16557\n",
      "Val: 2394, 2394, 2372\n",
      "Test: 4790, 4790, 4732\n",
      "\n",
      "Cases, Orig, Struct, Text\n",
      "All: 19132, 12845, 19132\n",
      "Train: 16294, 10915, 16294\n",
      "Val: 972, 645, 972\n",
      "Test: 1866, 1285, 1866\n",
      "\n",
      "Cases, Orig, Struct, Text\n",
      "All: 25371, 17270, 25371\n",
      "Train: 21610, 14679, 21610\n",
      "Val: 1251, 862, 1251\n",
      "Test: 2510, 1729, 2510\n",
      "\n"
     ]
    }
   ],
   "source": [
    "mex_check.check_all()\n",
    "\n",
    "ms_check.check_all()\n",
    "\n",
    "apr_check.check_all()"
   ]
  },
  {
   "cell_type": "code",
   "execution_count": 127,
   "id": "68804041",
   "metadata": {},
   "outputs": [
    {
     "name": "stdout",
     "output_type": "stream",
     "text": [
      "16557\n",
      "2372\n",
      "4732\n",
      "\n",
      "10915\n",
      "645\n",
      "1285\n",
      "\n",
      "14679\n",
      "862\n",
      "1729\n",
      "\n"
     ]
    }
   ],
   "source": [
    "new_mex, missing_mex = mex_check.trim_split('struct')\n",
    "\n",
    "new_ms, missing_ms = ms_check.trim_split('text')\n",
    "\n",
    "new_apr, missing_apr = apr_check.trim_split('text')\n",
    "\n",
    "_print_split_nums(new_mex)\n",
    "_print_split_nums(new_ms)\n",
    "_print_split_nums(new_apr)\n"
   ]
  },
  {
   "cell_type": "code",
   "execution_count": 120,
   "id": "eb254056",
   "metadata": {},
   "outputs": [
    {
     "name": "stdout",
     "output_type": "stream",
     "text": [
      "Check train\n",
      "later note \\ no note\n",
      "91 112\n",
      "Check val\n",
      "later note \\ no note\n",
      "13 9\n",
      "Check test\n",
      "later note \\ no note\n",
      "18 40\n"
     ]
    }
   ],
   "source": [
    "empty = check_missing_for_mex(missing_mex)"
   ]
  },
  {
   "cell_type": "code",
   "execution_count": null,
   "id": "a5cb1d0b",
   "metadata": {},
   "outputs": [],
   "source": []
  },
  {
   "cell_type": "code",
   "execution_count": 129,
   "id": "25c5464d",
   "metadata": {},
   "outputs": [],
   "source": [
    "# save new split\n",
    "\n",
    "with open('trim_splits_mextract.p', 'wb') as outf:\n",
    "    pk.dump(new_mex, outf)\n",
    "    \n",
    "with open('trim_splits_drg_ms.p', 'wb') as outf:\n",
    "    pk.dump(new_ms, outf)\n",
    "    \n",
    "with open('trim_splits_drg_apr.p', 'wb') as outf:\n",
    "    pk.dump(new_apr, outf)  \n",
    "    \n"
   ]
  },
  {
   "cell_type": "code",
   "execution_count": null,
   "id": "0756e017",
   "metadata": {},
   "outputs": [],
   "source": []
  },
  {
   "cell_type": "code",
   "execution_count": 112,
   "id": "689ecc75",
   "metadata": {},
   "outputs": [],
   "source": []
  },
  {
   "cell_type": "code",
   "execution_count": 97,
   "id": "96a2f788",
   "metadata": {},
   "outputs": [
    {
     "name": "stderr",
     "output_type": "stream",
     "text": [
      "/home/jinghuil1/miniconda3/envs/plm/lib/python3.8/site-packages/IPython/core/interactiveshell.py:3397: DtypeWarning: Columns (4,5) have mixed types.Specify dtype option on import or set low_memory=False.\n",
      "  exec(code_obj, self.user_global_ns, self.user_ns)\n"
     ]
    }
   ],
   "source": []
  },
  {
   "cell_type": "code",
   "execution_count": null,
   "id": "289d6eca",
   "metadata": {},
   "outputs": [],
   "source": []
  },
  {
   "cell_type": "code",
   "execution_count": null,
   "id": "2b6a713b",
   "metadata": {},
   "outputs": [],
   "source": []
  },
  {
   "cell_type": "code",
   "execution_count": null,
   "id": "c1e55058",
   "metadata": {},
   "outputs": [],
   "source": []
  },
  {
   "cell_type": "code",
   "execution_count": 118,
   "id": "040cd722",
   "metadata": {},
   "outputs": [],
   "source": []
  },
  {
   "cell_type": "code",
   "execution_count": null,
   "id": "d03c0d48",
   "metadata": {},
   "outputs": [],
   "source": []
  }
 ],
 "metadata": {
  "kernelspec": {
   "display_name": "Python 3.8.10 ('env')",
   "language": "python",
   "name": "python3"
  },
  "language_info": {
   "codemirror_mode": {
    "name": "ipython",
    "version": 3
   },
   "file_extension": ".py",
   "mimetype": "text/x-python",
   "name": "python",
   "nbconvert_exporter": "python",
   "pygments_lexer": "ipython3",
   "version": "3.8.10"
  },
  "vscode": {
   "interpreter": {
    "hash": "75ab38ac70ee34552eeefe2a806bc572681d36c000422e11d7830e3128825a3f"
   }
  }
 },
 "nbformat": 4,
 "nbformat_minor": 5
}
